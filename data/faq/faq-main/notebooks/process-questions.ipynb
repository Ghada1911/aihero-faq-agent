{
 "cells": [
  {
   "cell_type": "code",
   "execution_count": 15,
   "id": "9932ee9c-9e14-488f-bdc5-24aac29bcfc8",
   "metadata": {},
   "outputs": [],
   "source": [
    "import sys\n",
    "sys.path.append('..')"
   ]
  },
  {
   "cell_type": "code",
   "execution_count": 16,
   "id": "986d6c41-ad7d-42bf-9fcd-93928649acfa",
   "metadata": {},
   "outputs": [],
   "source": [
    "from openai import OpenAI\n",
    "from pathlib import Path"
   ]
  },
  {
   "cell_type": "code",
   "execution_count": 57,
   "id": "07665353-86e0-46b3-8a86-5ab758fbf7cc",
   "metadata": {},
   "outputs": [],
   "source": [
    "from tqdm.auto import tqdm"
   ]
  },
  {
   "cell_type": "code",
   "execution_count": 17,
   "id": "9374d344-b71d-49ca-83d3-51818187ec39",
   "metadata": {},
   "outputs": [],
   "source": [
    "import generate_website\n",
    "import process_faq"
   ]
  },
  {
   "cell_type": "code",
   "execution_count": 2,
   "id": "80d51d7b-cb26-4e1e-960c-55e8d97c0dcb",
   "metadata": {},
   "outputs": [],
   "source": [
    "root = Path('../_questions/')\n",
    "list(root.glob('**.md'))"
   ]
  },
  {
   "cell_type": "code",
   "execution_count": 36,
   "id": "e50de259-10b1-4e6e-88d9-6b15def77934",
   "metadata": {},
   "outputs": [],
   "source": [
    "openai_client = OpenAI()"
   ]
  },
  {
   "cell_type": "code",
   "execution_count": 25,
   "id": "cfeeb5c8-bebd-4965-b00f-8663fb27ea57",
   "metadata": {},
   "outputs": [],
   "source": [
    "from pydantic import BaseModel\n",
    "\n",
    "class FAQEntry(BaseModel):\n",
    "    question: str\n",
    "    answer: str"
   ]
  },
  {
   "cell_type": "code",
   "execution_count": 63,
   "id": "f4614284-4f7f-46f4-ab47-d70b3d3df19a",
   "metadata": {},
   "outputs": [],
   "source": [
    "system_prompt = \"\"\"\n",
    "Convert a raw FAQ entry into clean, professional Markdown documentation using these formatting rules:\n",
    "\n",
    "- The question and the answer should follow directly below using clear, concise text suitable for documentation\n",
    "- If the question contains a description of the error, or stacktrace, preserve it - it's important for search\n",
    "- Output only the final Markdown-formatted result; no explanation, no extra comments\n",
    "- Format any commands or error messages within code fences (triple backticks) and specify the language (e.g., ```bash)\n",
    "- If there are multiple solutions, steps, or instructions, present them as a bulleted or numbered list\n",
    "- Maintain a style consistent with technical documentation or course FAQ standards\n",
    "- Remove names of people who submitted the answer, like (Tatyana Mardvilko) or (Muhammad Awon) - usually at the end\n",
    "- Don't include links to Slack (like https://datatalks-club.slack.com/archives/C01FABYF2RG/p1706846846359379), but keep others\n",
    "- If a question starts with a category, like \"Homework\" or \"Docker\", leave it. Use \":\" to separate category with the quesiton\n",
    "- There could be image placeholders, like <{IMAGE:image_id}>. Leave them untouched.\n",
    "\n",
    "Carefully process the raw FAQ entry step-by-step, ensuring each formatting requirement is properly addressed before finalizing your answer\n",
    "\"\"\".strip()\n",
    "\n",
    "prompt_template = \"\"\"\n",
    "<QUESTION>\n",
    "{question}\n",
    "</QUESTION>\n",
    "<ANSWER>\n",
    "{answer}\n",
    "</ANSWER>\n",
    "\"\"\".strip()"
   ]
  },
  {
   "cell_type": "code",
   "execution_count": 87,
   "id": "a6c28c69-118c-4ee2-9fb6-3eee169e5877",
   "metadata": {},
   "outputs": [],
   "source": [
    "md_files = sorted(root.glob(\"**/*.md\"))"
   ]
  },
  {
   "cell_type": "code",
   "execution_count": 85,
   "id": "a917e861-935c-452c-9e61-8cc75aa0360a",
   "metadata": {},
   "outputs": [],
   "source": [
    "\n",
    "def process_file(question_file):\n",
    "    with question_file.open('r', encoding='utf-8') as f:\n",
    "        content = f.read()\n",
    "    \n",
    "    frontmatter, markdown_content = generate_website.parse_frontmatter(content)\n",
    "    question = frontmatter['question']\n",
    "    \n",
    "    prompt = prompt_template.format(\n",
    "        question=question,\n",
    "        answer=markdown_content\n",
    "    )\n",
    "    \n",
    "    messages = [\n",
    "        {\"role\": \"system\", \"content\": system_prompt},\n",
    "        {\"role\": \"user\", \"content\": prompt}\n",
    "    ]\n",
    "    \n",
    "    response = openai_client.responses.parse(\n",
    "        model=\"gpt-4o\",\n",
    "        input=messages,\n",
    "        text_format=FAQEntry,\n",
    "    )\n",
    "    \n",
    "    faq_entry = response.output[0].content[0].parsed\n",
    "    \n",
    "    frontmatter['question'] = faq_entry.question\n",
    "\n",
    "    process_faq.write_frontmatter(\n",
    "        question_file=question_file,\n",
    "        frontmatter_data=frontmatter,\n",
    "        content=faq_entry.answer,\n",
    "    )"
   ]
  },
  {
   "cell_type": "code",
   "execution_count": null,
   "id": "4e3829f6-412d-42c6-b3bf-97ca9a13ea49",
   "metadata": {},
   "outputs": [],
   "source": [
    "processed = set()"
   ]
  },
  {
   "cell_type": "code",
   "execution_count": 89,
   "id": "f2fe2fac-f8b5-4e34-b0e2-16dc9dcfa301",
   "metadata": {},
   "outputs": [
    {
     "data": {
      "application/vnd.jupyter.widget-view+json": {
       "model_id": "5d5bb512a28c45a988cd23b7505d822c",
       "version_major": 2,
       "version_minor": 0
      },
      "text/plain": [
       "  0%|          | 0/1211 [00:00<?, ?it/s]"
      ]
     },
     "metadata": {},
     "output_type": "display_data"
    }
   ],
   "source": [
    "for question_file in tqdm(md_files):\n",
    "    if question_file in processed:\n",
    "        continue\n",
    "\n",
    "    process_file(question_file)\n",
    "    processed.add(question_file)"
   ]
  },
  {
   "cell_type": "code",
   "execution_count": null,
   "id": "c30a39f7-e938-4d96-ade3-730fd4d5be21",
   "metadata": {},
   "outputs": [],
   "source": []
  }
 ],
 "metadata": {
  "kernelspec": {
   "display_name": "Python 3 (ipykernel)",
   "language": "python",
   "name": "python3"
  },
  "language_info": {
   "codemirror_mode": {
    "name": "ipython",
    "version": 3
   },
   "file_extension": ".py",
   "mimetype": "text/x-python",
   "name": "python",
   "nbconvert_exporter": "python",
   "pygments_lexer": "ipython3",
   "version": "3.13.5"
  }
 },
 "nbformat": 4,
 "nbformat_minor": 5
}
