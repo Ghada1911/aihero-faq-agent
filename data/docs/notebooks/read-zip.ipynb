{
 "cells": [
  {
   "cell_type": "code",
   "execution_count": 4,
   "id": "f4372d39-b383-431e-9042-15fc5bd71561",
   "metadata": {},
   "outputs": [],
   "source": [
    "import io\n",
    "import zipfile\n",
    "import requests"
   ]
  },
  {
   "cell_type": "code",
   "execution_count": 45,
   "id": "e222d8b3-85e8-46d6-aa36-e9f5b7227262",
   "metadata": {},
   "outputs": [],
   "source": [
    "import yaml\n",
    "\n",
    "def parse_metadata(content):\n",
    "    return yaml.safe_load(content)\n",
    "\n",
    "def parse_frontmatter(content):\n",
    "    if not content.startswith('---'):\n",
    "        return {}, content\n",
    "\n",
    "    try:\n",
    "        # Split frontmatter and content\n",
    "        parts = content.split('---', 2)\n",
    "        if len(parts) < 3:\n",
    "            return {}, content\n",
    "        \n",
    "        frontmatter = yaml.safe_load(parts[1])\n",
    "        markdown_content = parts[2].strip()\n",
    "        \n",
    "        return frontmatter or {}, markdown_content\n",
    "    except yaml.YAMLError:\n",
    "        return {}, content\n"
   ]
  },
  {
   "cell_type": "code",
   "execution_count": 46,
   "id": "b8b09b28-a74b-4a64-a0d8-124b267013fb",
   "metadata": {},
   "outputs": [],
   "source": [
    "def read_content(fi):\n",
    "    with zf.open(fi) as f_in:\n",
    "        content = f_in.read()\n",
    "        text = content.decode(\"utf-8\")\n",
    "        return text"
   ]
  },
  {
   "cell_type": "code",
   "execution_count": 47,
   "id": "017ac98f-9ff5-486e-b7d0-71a13bd5494d",
   "metadata": {},
   "outputs": [],
   "source": [
    "resp = requests.get('https://codeload.github.com/DataTalksClub/faq/zip/refs/heads/main')"
   ]
  },
  {
   "cell_type": "code",
   "execution_count": 48,
   "id": "e310a7ce-3409-4737-801a-22dff642c4af",
   "metadata": {},
   "outputs": [],
   "source": [
    "zf = zipfile.ZipFile(io.BytesIO(resp.content))"
   ]
  },
  {
   "cell_type": "code",
   "execution_count": 90,
   "id": "738c632a-69f6-422b-868f-707646eb9ec8",
   "metadata": {
    "scrolled": true
   },
   "outputs": [],
   "source": [
    "question_fis = []\n",
    "course_sections = {}\n",
    "\n",
    "for file_info in zf.infolist():\n",
    "    filename = file_info.filename.lower()\n",
    "\n",
    "    if '_questions' not in filename:\n",
    "        continue\n",
    "\n",
    "    if '_metadata.yaml' in filename:\n",
    "        content = read_content(file_info)\n",
    "        metadata = parse_metadata(content)\n",
    "\n",
    "        course_id = filename.split('/')[2]\n",
    "        sections = {d['id']: d['name'] for d in metadata['sections']}\n",
    "\n",
    "        course_sections[course_id] = sections\n",
    "        continue\n",
    "\n",
    "    if not filename.endswith('.md'):\n",
    "        continue\n",
    "\n",
    "    question_fis.append(file_info)"
   ]
  },
  {
   "cell_type": "code",
   "execution_count": 106,
   "id": "9166b545-1203-4541-95e0-32cffed32ae8",
   "metadata": {},
   "outputs": [],
   "source": [
    "documents = []\n",
    "\n",
    "for qfi in question_fis:\n",
    "    content = read_content(qfi)\n",
    "    fm, answer = parse_frontmatter(content)\n",
    "\n",
    "    _, _, course_id, section_id, name = qfi.filename.split('/')\n",
    "    section_name = course_sections[course_id].get(section_id, section_id)\n",
    "    document = {\n",
    "        'course': course_id,\n",
    "        'section': section_name,\n",
    "        'question': fm['question'],\n",
    "        'answer': answer,\n",
    "        'document_id': fm['id']\n",
    "    }\n",
    "\n",
    "    documents.append(document)"
   ]
  },
  {
   "cell_type": "code",
   "execution_count": 108,
   "id": "eb000490-6802-4d40-9a2d-b1416b3e7dd6",
   "metadata": {},
   "outputs": [],
   "source": [
    "zf.close()"
   ]
  },
  {
   "cell_type": "code",
   "execution_count": 107,
   "id": "14b7f275-ce0e-48a2-b237-1977107b3989",
   "metadata": {},
   "outputs": [
    {
     "data": {
      "text/plain": [
       "1177"
      ]
     },
     "execution_count": 107,
     "metadata": {},
     "output_type": "execute_result"
    }
   ],
   "source": [
    "len(documents)"
   ]
  }
 ],
 "metadata": {
  "kernelspec": {
   "display_name": "Python 3 (ipykernel)",
   "language": "python",
   "name": "python3"
  },
  "language_info": {
   "codemirror_mode": {
    "name": "ipython",
    "version": 3
   },
   "file_extension": ".py",
   "mimetype": "text/x-python",
   "name": "python",
   "nbconvert_exporter": "python",
   "pygments_lexer": "ipython3",
   "version": "3.13.5"
  }
 },
 "nbformat": 4,
 "nbformat_minor": 5
}
